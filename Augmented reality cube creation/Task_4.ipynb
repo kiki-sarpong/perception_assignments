{
 "cells": [
  {
   "cell_type": "code",
   "execution_count": 16,
   "metadata": {
    "scrolled": true
   },
   "outputs": [],
   "source": [
    "import cv2\n",
    "import pyAprilTag\n",
    "import numpy as np\n",
    "import matplotlib.pyplot as plt"
   ]
  },
  {
   "cell_type": "code",
   "execution_count": 24,
   "metadata": {},
   "outputs": [],
   "source": [
    "def draw_cube(image,new_points,corners):     #draw cube on image \n",
    "    cp = corners.astype(int)\n",
    "    np = new_points.astype(int)\n",
    "    for i in range(4):                     #connect side points\n",
    "        x1,y1 = cp[i,0],cp[i,1]\n",
    "        x2,y2 = np[i,0],np[i,1]\n",
    "        cv2.line(image, (x1,y1),(x2,y2), (0,0,255), 2)\n",
    "    for i in range(-1,3):                  #connect bottom points\n",
    "        x1,y1 = cp[i,0],cp[i,1]\n",
    "        x2,y2 = cp[i+1,0],cp[i+1,1]\n",
    "        cv2.line(image, (x1,y1),(x2,y2), (0,0,255), 2)\n",
    "    for i in range(-1,3):                    #connect top points\n",
    "        x1,y1 = np[i,0],np[i,1]\n",
    "        x2,y2 = np[i+1,0],np[i+1,1]\n",
    "        cv2.line(image, (x1,y1),(x2,y2), (0,0,255), 2)\n",
    "    return image"
   ]
  },
  {
   "cell_type": "code",
   "execution_count": 29,
   "metadata": {},
   "outputs": [
    {
     "data": {
      "text/plain": [
       "-1"
      ]
     },
     "execution_count": 29,
     "metadata": {},
     "output_type": "execute_result"
    }
   ],
   "source": [
    "im = cv2.imread(\"frame3.png\")\n",
    "img = cv2.cvtColor(im,cv2.COLOR_BGR2GRAY)\n",
    "K=np.array([[816.2117515245018, 0, 310.2413717879887],\n",
    "           [0, 810.9569296724389, 254.8559962566917],\n",
    "           [0, 0, 1]], dtype='float64')\n",
    "\n",
    "distCoeffs=np.array([0.04076376547927418,\n",
    "       0.2748835592290237,\n",
    "       0.002470542038679734,\n",
    "       0.0006316162578014795,\n",
    "       0], dtype='float64')\n",
    "\n",
    "ids, corners, centers, Hs = pyAprilTag.find(img)\n",
    "\n",
    "# #PNP needs atleast 6 points correspondences\n",
    "corners = corners.reshape(4,2)\n",
    "centers = centers.reshape(1,2)\n",
    "x = (corners[0,0] + corners[1,0])/2      #take first two coordinates and find the center of them\n",
    "y = (corners[0,1] + corners[1,1])/2\n",
    "last_point = np.array([[x,y]]).reshape(1,2)\n",
    "\n",
    "im_points = np.vstack((corners,centers,last_point))\n",
    "\n",
    "world_points = np.array([[0.0,0.0,0.0],      #must be in float form\n",
    "                         [0.0,-11.0,0.0],    # world points got from the actual measurement of the size of the april tag\n",
    "                         [11.0,-11.0,0.0],\n",
    "                         [11.0,0.0,0.0],\n",
    "                         [5.5,-5.5,0],     \n",
    "                         [0.0,-5.5,0]],dtype=\"float32\")\n",
    "(state,Rt,T) = cv2.solvePnP(world_points,im_points,K,distCoeffs) # solve Pnp\n",
    "\n",
    "w_o = 11    #offset in the z direction to create a cube\n",
    "cube = np.array([[0.0,0.0,0.0+w_o],     \n",
    "                 [0.0,-11.0,0.0+w_o],\n",
    "                 [11.0,-11.0,0.0+w_o],\n",
    "                 [11.0,0.0,0.0+w_o]],dtype=\"float32\")\n",
    "Projected_points,jacobian = cv2.projectPoints(cube,Rt,T,K,distCoeffs) #get new projected points\n",
    "new_points = Projected_points.reshape(len(Projected_points),2)\n",
    "image = draw_cube(im,corners,new_points)\n",
    "cv2.imshow(\"image\",image)\n",
    "cv2.waitKey(0)"
   ]
  },
  {
   "cell_type": "markdown",
   "metadata": {},
   "source": [
    "# Real Time cube construction"
   ]
  },
  {
   "cell_type": "code",
   "execution_count": 26,
   "metadata": {},
   "outputs": [],
   "source": [
    "camid = 1\n",
    "cap = cv2.VideoCapture(camid)\n",
    "\n",
    "if not cap.isOpened():\n",
    "    print(\"Error opening video stream or file\")\n",
    "    exit(0)\n",
    "\n",
    "K=np.array([[816.2117515245018, 0, 310.2413717879887],\n",
    "           [0, 810.9569296724389, 254.8559962566917],\n",
    "           [0, 0, 1]], dtype='float64')\n",
    "\n",
    "distCoeffs=np.array([0.04076376547927418,\n",
    "       0.2748835592290237,\n",
    "       0.002470542038679734,\n",
    "       0.0006316162578014795,\n",
    "       0], dtype='float64')\n",
    "\n",
    "world_points = np.array([[0.0,0.0,0.0],      #must be in float form\n",
    "                         [0.0,-11.0,0.0],\n",
    "                         [11.0,-11.0,0.0],\n",
    "                         [11.0,0.0,0.0],\n",
    "                         [5.5,-5.5,0],     \n",
    "                         [0.0,-5.5,0]],dtype=\"float32\")\n",
    "\n",
    "w_o = 11    \n",
    "cube = np.array([[0.0,0.0,0.0+w_o],     \n",
    "                 [0.0,-11.0,0.0+w_o],\n",
    "                 [11.0,-11.0,0.0+w_o],\n",
    "                 [11.0,0.0,0.0+w_o]],dtype=\"float32\")\n",
    "\n",
    "last_point = np.array([[0,0]])\n",
    "im_points = np.zeros((6,2),dtype=\"float32\")\n",
    "while cap.isOpened():\n",
    "    # Capture frame-by-frame\n",
    "    ret, frame = cap.read()\n",
    "    if not ret:\n",
    "        break\n",
    "    \n",
    "    ids, corners, centers, Hs = pyAprilTag.find(frame)\n",
    "    \n",
    "\n",
    "    \n",
    "    if len(corners) > 0:\n",
    "        corners = corners.reshape(4,2)\n",
    "        centers = centers.reshape(1,2)\n",
    "        x = (corners[0,0] + corners[1,0])/2      #take first two coordinates and find the center of them\n",
    "        y = (corners[0,1] + corners[1,1])/2\n",
    "        \n",
    "        last_point[0,0]= x\n",
    "        last_point[0,1]= y\n",
    "        \n",
    "        im_points[:4:] = corners\n",
    "        im_points[4:5:] = centers\n",
    "        im_points[5:6:] = last_point \n",
    "        \n",
    "        (state,Rt,T) = cv2.solvePnP(world_points,im_points,K,distCoeffs)\n",
    "\n",
    "        Projected_points,jacobian = cv2.projectPoints(cube,Rt,T,K,distCoeffs)\n",
    "        new_points = Projected_points.reshape(len(Projected_points),2)\n",
    "        \n",
    "        frame = draw_cube(frame,new_points,corners)\n",
    "\n",
    "    # Display the resulting frame\n",
    "    cv2.imshow('Frame',frame)\n",
    "    # Press ESC on keyboard to exit\n",
    "    \n",
    "    if cv2.waitKey(1) & 0XFF ==ord(\"q\"):\n",
    "        break\n",
    "      \n",
    "\n",
    "#When everything done, release the video capture object\n",
    "cap.release()\n",
    "# Closes all the frames\n",
    "cv2.destroyAllWindows()"
   ]
  },
  {
   "cell_type": "code",
   "execution_count": null,
   "metadata": {},
   "outputs": [],
   "source": []
  }
 ],
 "metadata": {
  "kernelspec": {
   "display_name": "Python 3",
   "language": "python",
   "name": "python3"
  },
  "language_info": {
   "codemirror_mode": {
    "name": "ipython",
    "version": 3
   },
   "file_extension": ".py",
   "mimetype": "text/x-python",
   "name": "python",
   "nbconvert_exporter": "python",
   "pygments_lexer": "ipython3",
   "version": "3.6.10"
  }
 },
 "nbformat": 4,
 "nbformat_minor": 4
}
