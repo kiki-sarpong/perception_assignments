{
 "cells": [
  {
   "cell_type": "code",
   "execution_count": 81,
   "metadata": {},
   "outputs": [],
   "source": [
    "import numpy as np\n",
    "import open3d as o3d\n",
    "import math\n",
    "import time\n",
    "import matplotlib.pyplot as plt\n",
    "from mpl_toolkits.mplot3d import Axes3D"
   ]
  },
  {
   "cell_type": "code",
   "execution_count": 96,
   "metadata": {},
   "outputs": [],
   "source": [
    "def visualize_point_cloud(inlier_data,outlier_data):\n",
    "        \"\"\"\n",
    "        Visualize the 3D data\n",
    "        :return: None\n",
    "        \"\"\"\n",
    "        # Visualize the point cloud data\n",
    "        fig = plt.figure(figsize=(20,10))\n",
    "        ax = Axes3D(fig)\n",
    "        ax.scatter(inlier_data[:,0],inlier_data[:,1],inlier_data[:,2],c=\"green\")\n",
    "        ax.scatter(outlier_data[:,0],outlier_data[:,1],outlier_data[:,2],c=\"red\")\n",
    "        plt.show()"
   ]
  },
  {
   "cell_type": "code",
   "execution_count": 97,
   "metadata": {},
   "outputs": [],
   "source": [
    "path = \"record_00348.pcd\"\n",
    "pcd = o3d.io.read_point_cloud(path)   #read point cloud file\n",
    "# o3d.visualization.draw_geometries([pcd])\n",
    "pcd_data = np.asarray(pcd.points)        #X,    Y,     Z"
   ]
  },
  {
   "cell_type": "code",
   "execution_count": 98,
   "metadata": {},
   "outputs": [],
   "source": [
    "data_len = pcd_data.shape[0]\n",
    "p = 0.99    #99% accuracy \n",
    "e = 0.6        #Percentage of outliers in data\n",
    "s = 3       #3d PLANE fitting\n",
    "N = np.log(1-p)/np.log(1-(1-e)**s)   #Number of iterations\n",
    "N = math.ceil(N)      #round up "
   ]
  },
  {
   "cell_type": "code",
   "execution_count": 99,
   "metadata": {},
   "outputs": [
    {
     "name": "stdout",
     "output_type": "stream",
     "text": [
      "This Point cloud file contains 271983 points(SAMPLES)\n",
      "The number of iterations for RANSAC is 70\n"
     ]
    }
   ],
   "source": [
    "# print(pcd_data.shape)\n",
    "print(\"This Point cloud file contains {} points(SAMPLES)\".format(pcd_data.shape[0]))\n",
    "print(\"The number of iterations for RANSAC is {}\".format(N))"
   ]
  },
  {
   "cell_type": "code",
   "execution_count": 130,
   "metadata": {
    "scrolled": true
   },
   "outputs": [
    {
     "name": "stdout",
     "output_type": "stream",
     "text": [
      "Done! RANSAC took 97.897seconds to run\n"
     ]
    }
   ],
   "source": [
    "best_plane_results = np.zeros((3,3))\n",
    "inlier_best = [] \n",
    "outlier_best = []\n",
    "d_threshold = 0.01\n",
    "\n",
    "np.random.seed(42)\n",
    "start_time = time.time()\n",
    "for i in range(N):\n",
    "    #generate random indices to pick 3D data\n",
    "    ind = np.random.randint(data_len,size=(1,3)).flatten() \n",
    "    #get 3 random points\n",
    "    x1,y1,z1 = pcd_data[ind[0]]\n",
    "    x2,y2,z2 = pcd_data[ind[1]]\n",
    "    x3,y3,z3 = pcd_data[ind[2]]\n",
    "\n",
    "    #3d plane equations for 3 non-colinear points\n",
    "    a = (y2 - y1)*(z3 - z1) - (z2 - z1)*(y3 - y1)\n",
    "    b = (z2 - z1)*(x3 - x1) - (x2 - x1)*(z3 - z1)\n",
    "    c = (x2 - x1)*(y3 - y1) - (y2 - y1)*(x3 - x1)\n",
    "    d = -(a*x1 + b*y1 + c*z1)\n",
    "\n",
    "    eucl_plane = np.sqrt(a**2+b**2+c**2)       # calculate the euclidean distance of the assumed plane.\n",
    "\n",
    "    iter_data = np.delete(pcd_data,ind,0)      #remove the current selected points from the list of points\n",
    "    inlier = []\n",
    "    outlier = []\n",
    "    for x,y,z in iter_data:\n",
    "        distance = np.abs(a*x + b*y + c*z + d)/eucl_plane\n",
    "        if distance < d_threshold:\n",
    "            inlier.append([x,y,z])\n",
    "        else:\n",
    "            outlier.append([x,y,z])\n",
    "    \n",
    "    if len(inlier) > len(inlier_best):            #save 3d points with the highest inlier count\n",
    "        best_plane_results[0,:] = [x1,y1,z1]\n",
    "        best_plane_results[1,:] = [x2,y2,z2]\n",
    "        best_plane_results[2,:] = [x3,y3,z3]\n",
    "        inlier_best = inlier\n",
    "        outlier_best = outlier\n",
    "    \n",
    "#     print(len(inlier_best))\n",
    "        \n",
    "inlier_best = np.array(inlier_best)  \n",
    "outlier_best = np.array(outlier_best)  \n",
    "end_time = time.time()\n",
    "task_time = end_time - start_time\n",
    "\n",
    "print(\"Done! RANSAC took {:.3f}seconds to run\".format(task_time))"
   ]
  },
  {
   "cell_type": "code",
   "execution_count": 131,
   "metadata": {},
   "outputs": [],
   "source": [
    "# visualize_point_cloud(inlier_best,outlier_best)\n",
    "# Pass xyz to Open3D.o3d.geometry.PointCloud and visualize\n",
    "pcd_inlier = o3d.geometry.PointCloud()\n",
    "pcd_outlier = o3d.geometry.PointCloud()\n",
    "\n",
    "pcd_inlier.points = o3d.utility.Vector3dVector(inlier_best)\n",
    "pcd_outlier.points = o3d.utility.Vector3dVector(outlier_best)\n",
    "pcd_outlier.paint_uniform_color([0, 0.706, 0])    #set the color of the mesh to a greenish color\n",
    "\n",
    "o3d.visualization.draw_geometries([pcd_inlier,pcd_outlier])\n",
    "# o3d.io.write_point_cloud(\"../../TestData/sync.ply\", pcd)   #convert to ply file"
   ]
  },
  {
   "cell_type": "code",
   "execution_count": null,
   "metadata": {},
   "outputs": [],
   "source": []
  }
 ],
 "metadata": {
  "kernelspec": {
   "display_name": "Python 3",
   "language": "python",
   "name": "python3"
  },
  "language_info": {
   "codemirror_mode": {
    "name": "ipython",
    "version": 3
   },
   "file_extension": ".py",
   "mimetype": "text/x-python",
   "name": "python",
   "nbconvert_exporter": "python",
   "pygments_lexer": "ipython3",
   "version": "3.7.3"
  }
 },
 "nbformat": 4,
 "nbformat_minor": 4
}
